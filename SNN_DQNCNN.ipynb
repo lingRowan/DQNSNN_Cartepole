{
 "cells": [
  {
   "cell_type": "code",
   "execution_count": 1,
   "metadata": {},
   "outputs": [],
   "source": [
    "import torch\n",
    "import torch.nn as nn\n",
    "import torch.nn.functional as fn\n",
    "from torch.nn.parameter import Parameter\n",
    "import torch.optim as optim\n",
    "import pandas as pd\n",
    "import matplotlib.pyplot as plt\n",
    "import numpy as np\n",
    "import math\n",
    "from torchvision import transforms\n",
    "from torchvision import datasets\n",
    "import os\n",
    "import random\n",
    "from SpykeTorch.utils import *\n",
    "from SpykeTorch.functional import *\n",
    "from SpykeTorch.snn import *\n",
    "from SpykeTorch.visualization import *\n",
    "from torch.utils.data import DataLoader\n",
    "from torch.utils.data import SubsetRandomSampler\n",
    "import json\n",
    "from torchvision.datasets import ImageFolder\n",
    "from torchvision import transforms\n"
   ]
  },
  {
   "cell_type": "code",
   "execution_count": 1,
   "metadata": {},
   "outputs": [],
   "source": [
    "import gym"
   ]
  },
  {
   "cell_type": "code",
   "execution_count": 2,
   "metadata": {},
   "outputs": [
    {
     "data": {
      "text/plain": [
       "'0.26.2'"
      ]
     },
     "execution_count": 2,
     "metadata": {},
     "output_type": "execute_result"
    }
   ],
   "source": [
    "gym.__version__"
   ]
  },
  {
   "cell_type": "code",
   "execution_count": 2,
   "metadata": {},
   "outputs": [],
   "source": [
    "kernels = [\tGaborKernel(window_size = 3, orientation = 45+22.5),\n",
    "            GaborKernel(3, 90+22.5),\n",
    "            GaborKernel(3, 135+22.5),\n",
    "            GaborKernel(3, 180+22.5)]\n",
    "filter = Filter(kernels, use_abs = True)"
   ]
  },
  {
   "cell_type": "code",
   "execution_count": 3,
   "metadata": {},
   "outputs": [],
   "source": [
    "\n",
    "def time_dim(input):\n",
    "    return input.unsqueeze(0)\n",
    "transform = transforms.Compose(\n",
    "    [transforms.Grayscale(),\n",
    "    transforms.ToTensor(),\n",
    "    time_dim,\n",
    "    filter,\n",
    "    sf.pointwise_inhibition,\n",
    "    Intensity2Latency(number_of_spike_bins = 15, to_spike = True)])"
   ]
  },
  {
   "cell_type": "code",
   "execution_count": 4,
   "metadata": {},
   "outputs": [
    {
     "data": {
      "image/png": "[encoded data removed]",
      "text/plain": [
       "<Figure size 640x480 with 1 Axes>"
      ]
     },
     "metadata": {},
     "output_type": "display_data"
    }
   ],
   "source": [
    "dataset = ImageFolder(\"Spyketorch_Training\")\n",
    "sample_idx = random.randint(0, len(dataset) - 1)\n",
    "\n",
    "# plotting the sample image\n",
    "ax = plt.subplot(1,1,1)\n",
    "plt.setp(ax, xticklabels=[])\n",
    "plt.setp(ax, yticklabels=[])\n",
    "plt.xticks([])\n",
    "plt.yticks([])\n",
    "plt.imshow(dataset[sample_idx][0])\n",
    "plt.show()\n"
   ]
  },
  {
   "cell_type": "code",
   "execution_count": 5,
   "metadata": {},
   "outputs": [],
   "source": [
    "dataset = ImageFolder(\"saved_images\", transform)\n",
    "indices = list(range(len(dataset)))\n",
    "random.shuffle(indices)\n",
    "split_point = int(0.50*len(indices))\n",
    "train_indices = indices[:split_point]\n",
    "test_indices = indices[split_point:]\n",
    "#print(\"Size of the training set:\", len(train_indices))\n",
    "#print(\"Size of the  testing set:\", len(test_indices))\n",
    "dataset = CacheDataset(dataset)\n",
    "train_loader = DataLoader(dataset, sampler=SubsetRandomSampler(train_indices))\n",
    "test_loader = DataLoader(dataset, sampler=SubsetRandomSampler(test_indices))"
   ]
  },
  {
   "cell_type": "code",
   "execution_count": 6,
   "metadata": {},
   "outputs": [],
   "source": [
    "pool = Pooling(kernel_size = 3, stride = 2)\n",
    "conv = Convolution(in_channels=4, out_channels=1, kernel_size=10)\n",
    "stdp = STDP(conv_layer = conv, learning_rate = (0.05, -0.015))\n",
    "anti_stdp = STDP(conv_layer = conv, learning_rate = (-0.05, 0.0005))"
   ]
  },
  {
   "cell_type": "code",
   "execution_count": 7,
   "metadata": {},
   "outputs": [
    {
     "name": "stdout",
     "output_type": "stream",
     "text": [
      "[0, 0, 0, 0, 0, 0, 0, 0, 0, 0, 1, 1, 1, 1, 1, 1, 1, 1, 1, 1]\n"
     ]
    }
   ],
   "source": [
    "feature2class = [0] * 10 + [1] * 10\n",
    "print(feature2class)\n"
   ]
  },
  {
   "cell_type": "code",
   "execution_count": null,
   "metadata": {},
   "outputs": [
    {
     "name": "stdout",
     "output_type": "stream",
     "text": [
      "Starting Reinforcement Learning ...\n"
     ]
    },
    {
     "ename": "",
     "evalue": "",
     "output_type": "error",
     "traceback": [
      "\u001b[1;31mThe Kernel crashed while executing code in the the current cell or a previous cell. Please review the code in the cell(s) to identify a possible cause of the failure. Click <a href='https://aka.ms/vscodeJupyterKernelCrash'>here</a> for more info. View Jupyter <a href='command:jupyter.viewOutput'>log</a> for further details."
     ]
    }
   ],
   "source": [
    "\n",
    "\n",
    "print(\"Starting Reinforcement Learning ...\")\n",
    "for data,targets in train_loader:\n",
    "    for x,t in zip(data, targets):\n",
    "        x = pool(x)\n",
    "        p = conv(x)\n",
    "        o, p = sf.fire(p, 20, return_thresholded_potentials=True)\n",
    "        winners = sf.get_k_winners(p, kwta=1, inhibition_radius=0, spikes=o)\n",
    "        if len(winners) != 0:\n",
    "            if feature2class[winners[0][0]] == t:  #This checks if there are any winners. If there are, it looks at the top winner (winners[0][0]) and compares its corresponding class from the feature2class dictionary with the target t.\n",
    "                stdp(x, p, o, winners) # feature match give reward\n",
    "                    #print('stdp')\n",
    "            else:\n",
    "                anti_stdp(x, p, o, winners) # feature didn't match give punishment\n",
    "                    #print(anti_stdp)\n",
    "print()\n",
    "print(\"Reinforcement Learning is Done.\")\n",
    "print(\"Saving the pretrained model is done.\")\n"
   ]
  },
  {
   "cell_type": "code",
   "execution_count": null,
   "metadata": {},
   "outputs": [
    {
     "ename": "",
     "evalue": "",
     "output_type": "error",
     "traceback": [
      "\u001b[1;31mThe Kernel crashed while executing code in the the current cell or a previous cell. Please review the code in the cell(s) to identify a possible cause of the failure. Click <a href='https://aka.ms/vscodeJupyterKernelCrash'>here</a> for more info. View Jupyter <a href='command:jupyter.viewOutput'>log</a> for further details."
     ]
    }
   ],
   "source": [
    "error = 0\n",
    "silent = 0\n",
    "total = 0\n",
    "for data,targets in test_loader:\n",
    "    for x,t in zip(data, targets):\n",
    "        total += 1\n",
    "        x = pool(x)\n",
    "        p = conv(x)\n",
    "        o, p = sf.fire(p, 20, return_thresholded_potentials=True)\n",
    "        winners = sf.get_k_winners(p, kwta=1, inhibition_radius=0, spikes=o)\n",
    "        if len(winners) != 0:\n",
    "            if feature2class[winners[0][0]] != t:\n",
    "                error += 1\n",
    "        else:\n",
    "            silent += 1\n",
    "print(\"         Error:\", error/total)\n",
    "print(\"Silent Samples:\", silent/total)"
   ]
  }
 ],
 "metadata": {
  "kernelspec": {
   "display_name": "base",
   "language": "python",
   "name": "python3"
  },
  "language_info": {
   "codemirror_mode": {
    "name": "ipython",
    "version": 3
   },
   "file_extension": ".py",
   "mimetype": "text/x-python",
   "name": "python",
   "nbconvert_exporter": "python",
   "pygments_lexer": "ipython3",
   "version": "3.11.5"
  }
 },
 "nbformat": 4,
 "nbformat_minor": 2
}
